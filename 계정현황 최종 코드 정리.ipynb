{
 "cells": [
  {
   "cell_type": "code",
   "execution_count": null,
   "metadata": {},
   "outputs": [],
   "source": [
    "#필요한 부분인 계정 사용자명만 가져와서 아래 액셀 파일의 한 시트에 붙여넣고 그 시트를 가져온 코드입니다\n",
    "df11 = pd.read_excel('.\\\\1.NBUS_테스트1.xlsx', sheet_name=12)\n",
    "df11"
   ]
  },
  {
   "cell_type": "code",
   "execution_count": null,
   "metadata": {},
   "outputs": [],
   "source": [
    "#필요헌 부분인 2월 재직자명만 가져와서 아래 액셀 파일의 한 시트에 붙여넣고 그 시트를 가져온 코드입니다\n",
    "df22 = pd.read_excel('.\\\\1.NBUS_테스트1.xlsx', sheet_name=13)\n",
    "df22"
   ]
  },
  {
   "cell_type": "code",
   "execution_count": null,
   "metadata": {},
   "outputs": [],
   "source": [
    "import numpy as np\n",
    "\n",
    "#계정 _ 사용자명 컬럼 리스트로 변환 -> df111 -> list1\n",
    "#약 26600건의 사용자명이 리스트로 들어감\n",
    "#출력\n",
    "\n",
    "df111 = pd.DataFrame(df11, columns = ['사용자명'])\n",
    "list1 = df11['사용자명'].values.tolist()\n",
    "print(list1)"
   ]
  },
  {
   "cell_type": "code",
   "execution_count": null,
   "metadata": {},
   "outputs": [],
   "source": [
    "# 2월 재직자 _ 성명 컬럼 리스트로 변환 -> df222  -> list2\n",
    "# 약 1400건이 리스트로 들어감\n",
    "# 출력\n",
    "\n",
    "df222 = pd.DataFrame(df22, columns = ['성명'])\n",
    "list2 = df22['성명'].values.tolist()\n",
    "print(list2)"
   ]
  },
  {
   "cell_type": "code",
   "execution_count": null,
   "metadata": {},
   "outputs": [],
   "source": [
    "#위에 리스트로 불러온 계정 사용자명 붙여넣기\n",
    "df = pd.DataFrame({'계정': [ '홍길동', '홍길동', '말똥이' ... (26600건의 사용자명담긴부분(위의 list2 결과 복붙))]})\n",
    "print(df, '\\n')\n",
    "\n",
    "#위에 리스트로 가져온 특정월(2월) 사용자명 붙여넣기\n",
    "    df2 = pd.DataFrame({'재직자':['홍길동', '개똥이', ... (1400건의 특정월 재직자명이 담긴 부분(위의 list2 결과 복붙))]})\n",
    "print(df2, '\\n')\n",
    "\n",
    "lis = df2['재직자'].to_list()\n",
    "print(list, '\\n')\n",
    "\n",
    "df['재직검증'] = df['계정'].apply(lambda x: x in lis)\n",
    "print(df)"
   ]
  },
  {
   "cell_type": "code",
   "execution_count": null,
   "metadata": {},
   "outputs": [],
   "source": [
    "df.to_excel('.\\\\new.xlsx',index=False)"
   ]
  }
 ],
 "metadata": {
  "kernelspec": {
   "display_name": "Python 3",
   "language": "python",
   "name": "python3"
  }
 },
 "nbformat": 4,
 "nbformat_minor": 4
}
