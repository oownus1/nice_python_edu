{
 "cells": [
  {
   "cell_type": "markdown",
   "metadata": {},
   "source": [
    "- 부여받은 임무 \n",
    "- 지금까지 거쳐간 모든 계정이 몽땅 들어있는 계정 파일 . 이 파일에는 휴면, 정상, 해지 계정을 가진 사용자명들이 중복되어서 섞여 들어가있다 이 파일과 매달 업데이트 되는 재직자 현황 파일들을 받아서 각 월마다 들어있는 재직자의 이름이 계정의 이름에 들어있으면 그 옆에 새로운 컬럼을 생성하여 그 컬럼에서 True를 출력하여주고, 없으면 False를 출력받게끔 파이썬 코드로 작성해보라는 임무를 부여받아 수행한 것이다"
   ]
  },
  {
   "cell_type": "code",
   "execution_count": null,
   "metadata": {},
   "outputs": [],
   "source": [
    "# 코드\n",
    "# 중복 포함된 모든 사내 계정명 액셀 파일과 매월 재직자현황 자료가 담긴 액셀 파일을 받았습니다\n",
    "# 이 두 파일을 이용하여서 고정되어있는 모든 해지, 정상, 휴면으로 중복되는 이름들이 겹쳐있는 계정 파일에서 \n",
    "# 매달 업데이트되는 그달의 재직자 현황 파일을 추합해보면서 두 파일 사이의 겹치는 사용자 명은 True, 안겹치는 사용자명은 False로 가져와서\n",
    "# 이상한 계정에 대해 알아보기 위한 데이터 분석작업을 파이썬코드로 수행하는 실습을 하였습니다.\n",
    "# 상무님께서 보고싶어하시는 원하는 결과를 출력하여 액셀로 옮기고 파일을 전달하였습니다\n",
    "# 데이터가 굉장히 많고 사용자들의 보안을 위해서 불러온 리스트 부분에는  다른 이름들을 예시로 넣어 수행한 다음코드를 기록하였습니다\n"
   ]
  },
  {
   "cell_type": "code",
   "execution_count": null,
   "metadata": {},
   "outputs": [],
   "source": [
    "import pandas as pd\n",
    "df = pd.DataFrame({'부서': ['it', 'it', '경관'],\n",
    "                  '전체계정명':['박선우', '박선우', '박정우'],\n",
    "                 'ID':['abc1', 'abc2', 'bbb']})\n",
    "print(df, '\\n')\n",
    "\n",
    "df2 = pd.DataFrame({'월재직자명':['박선우', '박재우']})\n",
    "print(df2, '\\n')\n",
    "\n",
    "lis = df2['월재직자명'].to_list()\n",
    "print(lis, '\\n')\n",
    "\n",
    "df['재직검증'] = df['전체계정명'].apply(lambda x: x in lis)\n",
    "print(df)\n"
   ]
  },
  {
   "cell_type": "code",
   "execution_count": null,
   "metadata": {},
   "outputs": [],
   "source": [
    "# 코드\n",
    "# 중복 포함된 모든 사내 계정명 액셀 파일과 매월 재직자현황 자료가 담긴 액셀 파일을 받았습니다\n",
    "# 이 두 파일을 이용하여서 고정되어있는 모든 해지, 정상, 휴면으로 중복되는 이름들이 겹쳐있는 계정 파일에서 \n",
    "# 매달 업데이트되는 그달의 재직자 현황 파일을 추합해보면서 두 파일 사이의 겹치는 사용자 명은 True, 안겹치는 사용자명은 False로 가져와서\n",
    "# 이상한 계정에 대해 알아보기 위한 데이터 분석작업을 파이썬코드로 수행하는 실습을 하였습니다.\n",
    "# 상무님께서 보고싶어하시는 원하는 결과를 출력하여 액셀로 옮기고 파일을 전달하였습니다\n",
    "# 데이터가 굉장히 많고 사용자들의 보안을 위해서 불러온 리스트 부분에는  다른 이름들을 예시로 넣어 수행한 다음코드를 기록하였습니다\n",
    "\n",
    "import pandas as pd\n",
    "df = pd.DataFrame({'부서': ['it', 'it', '경관'],\n",
    "                  '전체계정명':['박선우', '박선우', '박정우'],\n",
    "                 'ID':['abc1', 'abc2', 'bbb']})\n",
    "print(df, '\\n')\n",
    "\n",
    "df2 = pd.DataFrame({'월재직자명':['박선우', '박재우']})\n",
    "print(df2, '\\n')\n",
    "\n",
    "lis = df2['월재직자명'].to_list()\n",
    "print(lis, '\\n')\n",
    "\n",
    "df['재직검증'] = df['전체계정명'].apply(lambda x: x in lis)\n",
    "print(df)\n"
   ]
  },
  {
   "cell_type": "code",
   "execution_count": null,
   "metadata": {},
   "outputs": [],
   "source": [
    "#액셀로 결과 불러오기\n",
    "df.to_excel('.\\\\new.xlsx',index=False)"
   ]
  },
  {
   "cell_type": "code",
   "execution_count": null,
   "metadata": {},
   "outputs": [],
   "source": [
    "#수행하였던 코드들\n",
    "#(해당 파일은 보안으로 인해 가져 올수 없어서 어떠한 코드들을 사용하면서 시행착오를 수행하였는지 기록)\n"
   ]
  },
  {
   "cell_type": "code",
   "execution_count": null,
   "metadata": {},
   "outputs": [],
   "source": [
    "#계정 사용자 불러오기 -> 총 25458개\n",
    "df1 = pd.read_excel('.\\\\1.NBUS_테스트1.xlsx', sheet_name=7)\n",
    "df1"
   ]
  },
  {
   "cell_type": "code",
   "execution_count": null,
   "metadata": {},
   "outputs": [],
   "source": [
    "#2월 재직자 사용자 불러오기 -> 총 1334개\n",
    "df2 = pd.read_excel('.\\\\1.NBUS_테스트1.xlsx', sheet_name=8)\n",
    "df2"
   ]
  },
  {
   "cell_type": "code",
   "execution_count": null,
   "metadata": {},
   "outputs": [],
   "source": [
    "#병합 -> 공통인 부분만 병합하게 된다 -> 그러면 1이라는 숫자가 있는 부분에만 들어가게 된다\n",
    "df3 = df1.merge(df2, how=\"left\")\n",
    "df3"
   ]
  },
  {
   "cell_type": "code",
   "execution_count": null,
   "metadata": {},
   "outputs": [],
   "source": [
    "# 액셀에 얻은 정보를 가져가기 위해서 클립보드에 복사\n",
    "# 위의 데이터프레임의 좌측의 인덱스가 없이 복사하기 위해 index=False를 넣어주었다\n",
    "df3.to_clipboard(index=False)"
   ]
  },
  {
   "cell_type": "code",
   "execution_count": null,
   "metadata": {},
   "outputs": [],
   "source": [
    "#1월 재직자 사용자명 시트 불러와서 df4 변수에 저장\n",
    "df4 = pd.read_excel('.\\\\1.NBUS_테스트1.xlsx', sheet_name=9)\n",
    "df4"
   ]
  },
  {
   "cell_type": "code",
   "execution_count": null,
   "metadata": {},
   "outputs": [],
   "source": [
    "#2월 재직자 사용자명 시트 불러와서 df7 변수에 저장\n",
    "df7 = pd.read_excel('.\\\\1.NBUS_테스트1.xlsx', sheet_name=10)\n",
    "df7"
   ]
  },
  {
   "cell_type": "code",
   "execution_count": null,
   "metadata": {},
   "outputs": [],
   "source": [
    "#병합 수행해 보았다 (1월 재직자와 2월재직자 현황 병합)\n",
    "df_merge = pd.merge(df4, df7) \n",
    "print(df_merge)"
   ]
  },
  {
   "cell_type": "code",
   "execution_count": null,
   "metadata": {},
   "outputs": [],
   "source": [
    "#여기까지 수행에서는 원하는 결과를 얻기 어려웠다\n",
    "#다른 시도로 리스트 사용해보았다"
   ]
  },
  {
   "cell_type": "code",
   "execution_count": null,
   "metadata": {},
   "outputs": [],
   "source": [
    "#계정 사용자명을 df11에 불러와서 저장\n",
    "df11 = pd.read_excel('.\\\\1.NBUS_테스트1.xlsx', sheet_name=12)\n",
    "df11"
   ]
  },
  {
   "cell_type": "code",
   "execution_count": null,
   "metadata": {},
   "outputs": [],
   "source": [
    "#2월 재직자명을 df11에 불러와서 저장\n",
    "df22 = pd.read_excel('.\\\\1.NBUS_테스트1.xlsx', sheet_name=13)\n",
    "df22"
   ]
  },
  {
   "cell_type": "code",
   "execution_count": null,
   "metadata": {},
   "outputs": [],
   "source": [
    "import numpy as np\n",
    "\n",
    "#계정 _ 사용자명 컬럼 리스트로 변환 -> df111 -> list1\n",
    "#약 26600건의 사용자명이 리스트로 들어감\n",
    "\n",
    "df111 = pd.DataFrame(df11, columns = ['사용자명'])\n",
    "list1 = df11['사용자명'].values.tolist()\n",
    "print(list1)"
   ]
  },
  {
   "cell_type": "code",
   "execution_count": null,
   "metadata": {},
   "outputs": [],
   "source": [
    "# 2월 재직자 _ 성명 컬럼 리스트로 변환 -> df222  -> list2\n",
    "# 약 1400건이 리스트로 들어감\n",
    "\n",
    "df222 = pd.DataFrame(df22, columns = ['성명'])\n",
    "list2 = df22['성명'].values.tolist()\n",
    "print(list2)"
   ]
  },
  {
   "cell_type": "code",
   "execution_count": null,
   "metadata": {},
   "outputs": [],
   "source": [
    "#둘관계의 차집합 수행\n",
    "result = list(set(list1)-set(list2))\n",
    "print(result)"
   ]
  },
  {
   "cell_type": "code",
   "execution_count": null,
   "metadata": {},
   "outputs": [],
   "source": [
    "# 계정에서 재직자이름이 있지 않은 사람들 수 -> 7680개\n",
    "len(result)"
   ]
  },
  {
   "cell_type": "code",
   "execution_count": null,
   "metadata": {},
   "outputs": [],
   "source": [
    "#final -> False가 입력될 데이터의 리스트 목록을 데이터프레임으로 변환한것 \n",
    "\n",
    "final = pd.DataFrame(result, columns = ['False'])\n",
    "print(final)"
   ]
  },
  {
   "cell_type": "code",
   "execution_count": null,
   "metadata": {},
   "outputs": [],
   "source": [
    "#여기까지 시도하였을 때 원하는 결과를 출력하지 못하였다\n"
   ]
  }
 ],
 "metadata": {
  "kernelspec": {
   "display_name": "Python 3",
   "language": "python",
   "name": "python3"
  }
 },
 "nbformat": 4,
 "nbformat_minor": 4
}
